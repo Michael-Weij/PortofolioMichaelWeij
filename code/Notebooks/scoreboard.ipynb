{
 "cells": [
  {
   "cell_type": "code",
   "execution_count": 1,
   "id": "f3fe32ca",
   "metadata": {},
   "outputs": [],
   "source": [
    "import pandas as pd\n",
    "import numpy as np\n",
    "import matplotlib.pyplot as plt"
   ]
  },
  {
   "cell_type": "code",
   "execution_count": 2,
   "id": "ef50b112",
   "metadata": {},
   "outputs": [],
   "source": [
    "data =[\n",
    "    'data/021.xlsx',\n",
    "    'data/025.xlsx',\n",
    "    'data/037.xlsx',\n",
    "    'data/039.xlsx',\n",
    "    'data/040.xlsx',\n",
    "    'data/041.xlsx',\n",
    "    'data/042.xlsx',\n",
    "    'data/051.xlsx',\n",
    "    'data/054.xlsx',\n",
    "    'data/055.xlsx',\n",
    "    'data/056.xlsx',\n",
    "    'data/057.xlsx',\n",
    "    'data/058.xlsx',\n",
    "    'data/060.xlsx',\n",
    "    'data/072.xlsx',\n",
    "    'data/078.xlsx',\n",
    "    'data/099.xlsx',\n",
    "    'data/100.xlsx',\n",
    "    'data/105.xlsx',\n",
    "    'data/115.xlsx'\n",
    "]\n",
    "\n",
    "house54 = ['data/054.xlsx']"
   ]
  },
  {
   "cell_type": "code",
   "execution_count": 24,
   "id": "1bfcbb2c",
   "metadata": {},
   "outputs": [],
   "source": [
    "def load_data(data: str, sheet: str, column: str):\n",
    "    column_data = []\n",
    "    for i in data:\n",
    "        df = pd.read_excel(i,sheet_name=sheet)\n",
    "        column_data.append([i,(df[column])])\n",
    "    return column_data\n",
    "    \n",
    "def list_print(scoreboard_list):\n",
    "    for i in scoreboard_list:\n",
    "        print(i)\n",
    "\n",
    "def average(data):\n",
    "    average_data = []\n",
    "    for i in range(len(data)):\n",
    "        average_data.append(np.mean(data[i][1]))\n",
    "    return average_data\n",
    "        \n",
    "\n",
    "def count(column_data):\n",
    "    global mode\n",
    "    global house_names\n",
    "    percent = []\n",
    "    house_names = []\n",
    "    for i in range(len(column_data)):\n",
    "        mode , b= (np.unique(column_data[i][1],return_counts=True))\n",
    "        sum_counts = sum(b)\n",
    "        percent.append(b/sum_counts)\n",
    "        house_names.append(column_data[i][0])\n",
    "        \n",
    "    df = pd.DataFrame(percent,index=house_names,columns=mode)\n",
    "    print(df)\n",
    "    return df\n",
    "\n",
    "def scoreboard_opmode():\n",
    "    data_scores = []\n",
    "    for i in range(len(dff)):\n",
    "        a = df.iloc[i]-df.iloc[8]\n",
    "        data_scores.append(a)\n",
    "\n",
    "    new_df = pd.DataFrame(data_scores,index=data) \n",
    "\n",
    "    new_df = new_df*10000000000000000\n",
    "    new_df = new_df.sum(axis=1)\n",
    "    new_df = new_df.abs()\n",
    "    new_df.sort_values(ascending=True)\n",
    "    return new_df"
   ]
  },
  {
   "cell_type": "code",
   "execution_count": 5,
   "id": "adfa0ba4",
   "metadata": {},
   "outputs": [],
   "source": [
    "lol = load_data(data, 'alklimaHeatPump','op_mode')"
   ]
  },
  {
   "cell_type": "code",
   "execution_count": 82,
   "id": "744311ca",
   "metadata": {},
   "outputs": [
    {
     "name": "stdout",
     "output_type": "stream",
     "text": [
      "                      0         1         2         5         6\n",
      "data/021.xlsx  0.705501  0.043181  0.232445  0.012192  0.006681\n",
      "data/025.xlsx  0.632770  0.035175  0.309912  0.014714  0.007429\n",
      "data/037.xlsx  0.696261  0.032211  0.245977  0.020707  0.004844\n",
      "data/039.xlsx  0.550917  0.082696  0.342096  0.019043  0.005246\n",
      "data/040.xlsx  0.567174  0.144180  0.277928  0.003046  0.007672\n",
      "data/041.xlsx  0.755006  0.060118  0.166822  0.010745  0.007309\n",
      "data/042.xlsx  0.728313  0.115805  0.107306  0.041419  0.007157\n",
      "data/051.xlsx  0.757632  0.088456  0.112229  0.033965  0.007718\n",
      "data/054.xlsx  0.729737  0.068719  0.154214  0.040259  0.007070\n",
      "data/055.xlsx  0.716628  0.065045  0.207687  0.002960  0.007680\n",
      "data/056.xlsx  0.556496  0.090551  0.336071  0.008613  0.008270\n",
      "data/057.xlsx  0.582578  0.116639  0.269614  0.024230  0.006938\n",
      "data/058.xlsx  0.610509  0.044858  0.329473  0.007879  0.007280\n",
      "data/060.xlsx  0.739135  0.028999  0.161959  0.062434  0.007473\n",
      "data/072.xlsx  0.616826  0.051040  0.320666  0.004264  0.007204\n",
      "data/078.xlsx  0.809341  0.062820  0.100836  0.020045  0.006958\n",
      "data/099.xlsx  0.603896  0.067009  0.308095  0.013227  0.007774\n",
      "data/100.xlsx  0.511748  0.026408  0.444705  0.010002  0.007137\n",
      "data/105.xlsx  0.764929  0.042054  0.135527  0.050543  0.006947\n",
      "data/115.xlsx  0.556898  0.101511  0.335547  0.001818  0.004225\n"
     ]
    }
   ],
   "source": [
    "dff = count(lol)"
   ]
  },
  {
   "cell_type": "code",
   "execution_count": 83,
   "id": "cdbd5102",
   "metadata": {
    "scrolled": true
   },
   "outputs": [
    {
     "ename": "NameError",
     "evalue": "name 'scoreboard_opmode' is not defined",
     "output_type": "error",
     "traceback": [
      "\u001b[0;31m---------------------------------------------------------------------------\u001b[0m",
      "\u001b[0;31mNameError\u001b[0m                                 Traceback (most recent call last)",
      "\u001b[0;32m/tmp/ipykernel_12687/345405551.py\u001b[0m in \u001b[0;36m<module>\u001b[0;34m\u001b[0m\n\u001b[0;32m----> 1\u001b[0;31m \u001b[0mscoreboard_opmode\u001b[0m\u001b[0;34m(\u001b[0m\u001b[0;34m)\u001b[0m\u001b[0;34m\u001b[0m\u001b[0;34m\u001b[0m\u001b[0m\n\u001b[0m",
      "\u001b[0;31mNameError\u001b[0m: name 'scoreboard_opmode' is not defined"
     ]
    }
   ],
   "source": [
    "scoreboard_opmode()\n"
   ]
  },
  {
   "cell_type": "code",
   "execution_count": null,
   "id": "591228ca",
   "metadata": {},
   "outputs": [],
   "source": [
    "for d in range(len(lol)):\n",
    "    plt.hist(lol[d][1],bins=10)\n",
    "    plt.title(str(lol[d][0]))\n",
    "    plt.show()"
   ]
  },
  {
   "cell_type": "code",
   "execution_count": 70,
   "id": "92dc353b",
   "metadata": {},
   "outputs": [
    {
     "name": "stdout",
     "output_type": "stream",
     "text": [
      "['data/021.xlsx', 'data/025.xlsx', 'data/037.xlsx', 'data/039.xlsx', 'data/040.xlsx', 'data/041.xlsx', 'data/042.xlsx', 'data/051.xlsx', 'data/054.xlsx', 'data/055.xlsx', 'data/056.xlsx', 'data/057.xlsx', 'data/058.xlsx', 'data/060.xlsx', 'data/072.xlsx', 'data/078.xlsx', 'data/099.xlsx', 'data/100.xlsx', 'data/105.xlsx', 'data/115.xlsx']\n"
     ]
    }
   ],
   "source": [
    "print(house_names)"
   ]
  }
 ],
 "metadata": {
  "kernelspec": {
   "display_name": "Python 3 (ipykernel)",
   "language": "python",
   "name": "python3"
  },
  "language_info": {
   "codemirror_mode": {
    "name": "ipython",
    "version": 3
   },
   "file_extension": ".py",
   "mimetype": "text/x-python",
   "name": "python",
   "nbconvert_exporter": "python",
   "pygments_lexer": "ipython3",
   "version": "3.8.8"
  }
 },
 "nbformat": 4,
 "nbformat_minor": 5
}
