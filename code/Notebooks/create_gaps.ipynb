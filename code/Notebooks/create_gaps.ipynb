{
 "cells": [
  {
   "cell_type": "code",
   "execution_count": null,
   "id": "df911b30",
   "metadata": {},
   "outputs": [],
   "source": [
    "import numpy as np\n",
    "\n",
    "def create_gaps(df: pd.DataFrame, gaps_ratio: float, min_gap_size: int, max_gap_size: int):\n",
    "    global gaps_indices, dataset_config\n",
    "    indices_to_remove: [int] = []\n",
    "    gaps_locations = sorted(random.sample(\n",
    "        range(1, len(df) + 1),\n",
    "        int(len(df) * gaps_ratio)\n",
    "    ))\n",
    "    df_with_gaps = df.copy()\n",
    "\n",
    "    for i, gap_start in enumerate(gaps_locations):\n",
    "        gap_end = min(\n",
    "            gap_start + random.randint(min_gap_size, max_gap_size),\n",
    "            len(df) - 1\n",
    "        )\n",
    "        if len(gaps_locations) >= i + 2 and gap_end + dataset_config[\"min_gap_distance\"] >= gaps_locations[i + 1]:\n",
    "            continue\n",
    "        indices_to_remove.append([df.index[i] for i in range(gap_start, gap_end)])\n",
    "        df_with_gaps.loc[indices_to_remove[-1]] = np.nan\n",
    "    gaps_indices.append(indices_to_remove)\n",
    "    return df_with_gaps\n",
    "\n",
    "gaps_status = widgets.HTML(value=\"\")\n",
    "display(gaps_status)\n",
    "\n",
    "dfs_with_gaps: [pd.DataFrame] = []\n",
    "for i in range(len(dataset_config[\"gaps\"])):\n",
    "    gaps_status.value = f\"Creating gaps... ({i}/{len(dataset_config['gaps'])})\"\n",
    "    min_gap_size, max_gap_size, gaps_ratio = dataset_config[\"gaps\"][i]\n",
    "    dfs_with_gaps.append(create_gaps(df, gaps_ratio, min_gap_size, max_gap_size))\n",
    "gaps_status.value = \"Gaps created\""
   ]
  }
 ],
 "metadata": {
  "kernelspec": {
   "display_name": "Python 3 (ipykernel)",
   "language": "python",
   "name": "python3"
  },
  "language_info": {
   "codemirror_mode": {
    "name": "ipython",
    "version": 3
   },
   "file_extension": ".py",
   "mimetype": "text/x-python",
   "name": "python",
   "nbconvert_exporter": "python",
   "pygments_lexer": "ipython3",
   "version": "3.8.8"
  }
 },
 "nbformat": 4,
 "nbformat_minor": 5
}
