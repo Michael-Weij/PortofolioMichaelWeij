{
 "cells": [
  {
   "cell_type": "code",
   "execution_count": null,
   "id": "25c86253",
   "metadata": {},
   "outputs": [],
   "source": [
    "\"\"\"\n",
    "for citing later\n",
    "@software{fancyimpute,\n",
    "  author = {Alex Rubinsteyn and Sergey Feldman},\n",
    "  title={fancyimpute: An Imputation Library for Python},\n",
    "  url = {https://github.com/iskandr/fancyimpute},\n",
    "  version = {0.7.0},\n",
    "  date = {2016},\n",
    "}\n",
    "\"\"\""
   ]
  },
  {
   "cell_type": "code",
   "execution_count": 3,
   "id": "db82abb5",
   "metadata": {},
   "outputs": [],
   "source": [
    "from fancyimpute import SoftImpute, BiScaler\n",
    "\n",
    "def SoftImputation(df: pd.DataFrame, config: object) -> Tuple[pd.DataFrame, str]:\n",
    "    data = np.array(df).reshape(100,100)\n",
    "    imp_data= SoftImpute(max_iters=1000).fit_transform(data)\n",
    "    imp_data = imp_data.reshape(10000,1)\n",
    "    imputed_df = pd.DataFrame(data=imp_data,columns=df.columns.tolist(),index=df.index)\n",
    "    return imputed_df, None\n"
   ]
  }
 ],
 "metadata": {
  "kernelspec": {
   "display_name": "Python 3 (ipykernel)",
   "language": "python",
   "name": "python3"
  },
  "language_info": {
   "codemirror_mode": {
    "name": "ipython",
    "version": 3
   },
   "file_extension": ".py",
   "mimetype": "text/x-python",
   "name": "python",
   "nbconvert_exporter": "python",
   "pygments_lexer": "ipython3",
   "version": "3.8.8"
  }
 },
 "nbformat": 4,
 "nbformat_minor": 5
}
